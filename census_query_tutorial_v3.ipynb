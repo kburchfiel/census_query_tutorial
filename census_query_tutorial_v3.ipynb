{
 "cells": [
  {
   "cell_type": "markdown",
   "metadata": {},
   "source": [
    "# Python Tutorial Program: Gathering and Exporting Census Data\n",
    "\n",
    "By Kenneth Burchfiel\n",
    "\n",
    "This code is released under the MIT license; the datasets produced by the code are in the public domain.\n",
    "\n",
    "You can find my blog post on this code at https://kburchfiel3.wordpress.com/2021/08/12/python-tutorial-program-retrieving-u-s-census-data/ .\n",
    "\n",
    "This program demonstrates how Python (along with the census library, available at https://github.com/datamade/census) can be used to retrieve and export US Census data at the zip code, county, and state level. Although this tutorial program will focus on gathering education, family type, and income/poverty statistics from the American Community Survey, it should be a useful reference for those wishing to gather other types of census data instead.\n",
    "\n",
    "Before being able to run the code below on your computer, you'll need to install the census library and obtain a free Census API key. See the above link for instructions.\n",
    "\n",
    "First, I imported a number of libraries:"
   ]
  },
  {
   "cell_type": "code",
   "execution_count": null,
   "metadata": {},
   "outputs": [],
   "source": [
    "import time\n",
    "start_time = time.time() # Allows the program's runtime to be measured\n",
    "from census import Census\n",
    "# import us I didn't end up using this library, but you may find it useful for your own Census query program. See https://github.com/datamade/census for more information.\n",
    "import pandas as pd\n",
    "import numpy as np\n",
    "import statsmodels.api as sm"
   ]
  },
  {
   "cell_type": "markdown",
   "metadata": {},
   "source": [
    "Instead of hard coding the year into my Census queries, I chose to set it as a variable so that the queries could be modified more easily. I picked 2019 because it was the recent year that American Community Survey census data was available."
   ]
  },
  {
   "cell_type": "code",
   "execution_count": null,
   "metadata": {},
   "outputs": [],
   "source": [
    "year = 2019"
   ]
  },
  {
   "cell_type": "markdown",
   "metadata": {},
   "source": [
    "Next, I imported my Census API key into the code. I stored the path to the key and the key itself in separate file locations. "
   ]
  },
  {
   "cell_type": "code",
   "execution_count": null,
   "metadata": {},
   "outputs": [],
   "source": [
    "with open('..\\\\key_paths\\\\path_to_keys_folder.txt') as fin:\n",
    "    api_folder_path = fin.readline()\n",
    "with open(api_folder_path+'\\\\census_api_key.txt') as fin:\n",
    "    api_key = fin.readline() "
   ]
  },
  {
   "cell_type": "code",
   "execution_count": null,
   "metadata": {},
   "outputs": [],
   "source": [
    "c = Census(api_key) # See https://github.com/datamade/census"
   ]
  },
  {
   "cell_type": "markdown",
   "metadata": {},
   "source": [
    "The next step was to locate the source of the data that I was interested in. For this program, I chose to retrieve zip code statistics for the following variables:\n",
    "\n",
    "1. Household types (mostly married households vs. ones led by a female householder with no spouse present, which, for brevity's sake, I'll abbreviate as 'female-householder' homes.\n",
    "2. The presence of children within these households\n",
    "3. Median household income\n",
    "4. Poverty status by family type\n",
    "5. Poverty status by family type and the highest level of education completed\n",
    "\n",
    "To search for this data, I used the Census's API site (https://api.census.gov/data.html). This is a very helpful site that provides links to different data sources, along with lists of groups and variables within those data sources.\n",
    "\n",
    "For example, to access data from the 2019 American Community Survey, I searched in the above page in my web browser for 'acs5', then found the most recent year--which, in this case, happened to be 2019. To confirm that I could access data at the zip code level within this table, I could click on the 'geography' hyperlink (https://api.census.gov/data/2019/acs/acs5/geography.html). To figure out what types of data this survey provides, I clicked on its 'groups' hyperlink (https://api.census.gov/data/2019/acs/acs5/groups.html).\n",
    "\n",
    "This groups page had 1,136 (!) different types of data that I could choose from. Fortunately, there were lots of options available for my variables of interest (marriage, income, education, household type, etc.)\n",
    "\n",
    "The Census data site also provided an 'examples' page for accessing American Community Survey data (https://api.census.gov/data/2019/acs/acs5/examples.html), although the query format I used differed somewhat from the examples shown there.\n",
    "\n",
    "I chose to query Census data in this program by:\n",
    "1. Organizing different queries in dictionaries\n",
    "2. Adding these dictionaries to a list (which I named 'metric_list')\n",
    "3. Looping through this list\n",
    "4. Storing the output of the queries in a DataFrame\n",
    "\n",
    "The first two steps are shown below. I ended up adding many different queries to my dictionary, but you may choose to retrieve data for only a couple variables.\n",
    "\n",
    "Each dictionary is based off information available on the Census Data page for a particular 'group.' For instance, to find data on the presence of children in households by household type, I chose to look into table B11005, 'HOUSEHOLDS BY PRESENCE OF PEOPLE UNDER 18 YEARS BY HOUSEHOLD TYPE' (which can be found on https://api.census.gov/data/2019/acs/acs5/groups.html). Clicking the 'selected variables' link for that group took me to https://api.census.gov/data/2019/acs/acs5/groups/B11005.html. This page shows all the different statistics available for the 'HOUSEHOLDS BY PRESENCE OF PEOPLE UNDER 18 YEARS BY HOUSEHOLD TYPE' group.\n",
    "\n",
    "I stored the following information from these pages within the dictionaries below:\n",
    "\n",
    "1. 'Name': the code on the Census website for that particular variable (e.g. B11005_001E). \n",
    "\n",
    "2. 'Label': the Census's text description of that variable (e.g. 'Estimate!!Total:')\n",
    "\n",
    "3. 'Concept': the Census's text description of the group to which the variable belongs (e.g. 'HOUSEHOLDS BY PRESENCE OF PEOPLE UNDER 18 YEARS BY HOUSEHOLD TYPE''). \n",
    "\n",
    "I also added an 'Alias' key to store my own description of these metrics. These aliases then served as column names in the Pandas DataFrame that stored the results of these queries. That DataFrame will appear later in this program.\n",
    "\n",
    "I could have made the dictionaries simpler by including only the 'Name' and 'Alias' components, as the 'Label' and 'Concept' keys are neither used in the census queries nor displayed in the table. However, they can serve as a helpful reference for distinguishing between subtly different variable types."
   ]
  },
  {
   "cell_type": "code",
   "execution_count": null,
   "metadata": {},
   "outputs": [],
   "source": [
    "metric_list = []\n",
    "\n",
    "# Group 1: Information on households by presence of children (see https://api.census.gov/data/2019/acs/acs5/groups/B11005.html)\n",
    "\n",
    "metric_list.append({'Name':'B11005_001E', 'Label':'Estimate!!Total:', 'Concept':'HOUSEHOLDS BY PRESENCE OF PEOPLE UNDER 18 YEARS BY HOUSEHOLD TYPE','Alias':'Households'})\n",
    "\n",
    "metric_list.append({'Name':'B11005_013E', 'Label':'\tEstimate!!Total:!!Households with no people under 18 years:!!Family households:!!Married-couple family', 'Concept':'HOUSEHOLDS BY PRESENCE OF PEOPLE UNDER 18 YEARS BY HOUSEHOLD TYPE','Alias':'Married_couple_households_with_no_children'})\n",
    "\n",
    "metric_list.append({'Name':'B11005_002E', 'Label':'Estimate!!Total:!!Households with one or more people under 18 years:', 'Concept':'HOUSEHOLDS BY PRESENCE OF PEOPLE UNDER 18 YEARS BY HOUSEHOLD TYPE:','Alias':'Households_with_1_or_more_children'})\n",
    "\n",
    "metric_list.append({'Name':'B11005_004E', 'Label':'Estimate!!Total:!!Households with one or more people under 18 years:!!Family households:!!Married-couple family', 'Concept':'HOUSEHOLDS BY PRESENCE OF PEOPLE UNDER 18 YEARS BY HOUSEHOLD TYPE','Alias':'Married_couple_households_with_1_or_more_children'})\n",
    "\n",
    "# Group 2: median household income\n",
    "\n",
    "metric_list.append({'Name':'B19013_001E', 'Label':'Estimate!!Median household income in the past 12 months (in YYYY inflation-adjusted dollars)', 'Concept':'MEDIAN HOUSEHOLD INCOME IN THE PAST 12 MONTHS (IN YYYY INFLATION-ADJUSTED DOLLARS)','Alias':'Median_household_income'})\n",
    "\n",
    "# Group 3: Numbers of children below/not below the poverty level in different family types\n",
    "\n",
    "metric_list.append({'Name':'B17006_002E', 'Label':'Estimate!!Total:!!Income in the past 12 months below poverty level:', 'Concept':'POVERTY STATUS IN THE PAST 12 MONTHS OF RELATED CHILDREN UNDER 18 YEARS BY FAMILY TYPE BY AGE OF RELATED CHILDREN UNDER 18 YEARS','Alias':'Children_below_poverty_level'})\n",
    "\n",
    "metric_list.append({'Name':'B17006_016E', 'Label':'Estimate!!Total:!!Income in the past 12 months at or above poverty level:', 'Concept':'POVERTY STATUS IN THE PAST 12 MONTHS OF RELATED CHILDREN UNDER 18 YEARS BY FAMILY TYPE BY AGE OF RELATED CHILDREN UNDER 18 YEARS','Alias':'Children_at_or_above_poverty_level'})\n",
    "\n",
    "metric_list.append({'Name':'B17006_003E', 'Label':'Estimate!!Total:!!Income in the past 12 months below poverty level:!!In married-couple family:', 'Concept':'POVERTY STATUS IN THE PAST 12 MONTHS OF RELATED CHILDREN UNDER 18 YEARS BY FAMILY TYPE BY AGE OF RELATED CHILDREN UNDER 18 YEARS','Alias':'Children_in_married_couple_families_below_poverty_level'})\n",
    "\n",
    "metric_list.append({'Name':'B17006_017E', 'Label':'Estimate!!Total:!!Income in the past 12 months at or above poverty level:!!In married-couple family:', 'Concept':'POVERTY STATUS IN THE PAST 12 MONTHS OF RELATED CHILDREN UNDER 18 YEARS BY FAMILY TYPE BY AGE OF RELATED CHILDREN UNDER 18 YEARS','Alias':'Children_in_married_couple_families_at_or_above_poverty_level'})\n",
    "\n",
    "metric_list.append({'Name':'B17006_012E', 'Label':'Estimate!!Total:!!Income in the past 12 months below poverty level:!!In other family:!!Female householder, no spouse present:', 'Concept':'POVERTY STATUS IN THE PAST 12 MONTHS OF RELATED CHILDREN UNDER 18 YEARS BY FAMILY TYPE BY AGE OF RELATED CHILDREN UNDER 18 YEARS','Alias':'Children_in_female_householder_families_below_poverty_level'})\n",
    "\n",
    "metric_list.append({'Name':'B17006_026E', 'Label':'\tEstimate!!Total:!!Income in the past 12 months at or above poverty level:!!In other family:!!Female householder, no spouse present:', 'Concept':'POVERTY STATUS IN THE PAST 12 MONTHS OF RELATED CHILDREN UNDER 18 YEARS BY FAMILY TYPE BY AGE OF RELATED CHILDREN UNDER 18 YEARS','Alias':'Children_in_female_householder_families_at_or_above_poverty_level'})\n",
    "\n",
    "metric_list.append({'Name':'B17006_008E', 'Label':'Estimate!!Total:!!Income in the past 12 months below poverty level:!!In other family:!!Male householder, no spouse present:', 'Concept':'POVERTY STATUS IN THE PAST 12 MONTHS OF RELATED CHILDREN UNDER 18 YEARS BY FAMILY TYPE BY AGE OF RELATED CHILDREN UNDER 18 YEARS','Alias':'Children_in_male_householder_families_below_poverty_level'})\n",
    "\n",
    "metric_list.append({'Name':'B17006_022E', 'Label':'Estimate!!Total:!!Income in the past 12 months at or above poverty level:!!In other family:!!Male householder, no spouse present:', 'Concept':'POVERTY STATUS IN THE PAST 12 MONTHS OF RELATED CHILDREN UNDER 18 YEARS BY FAMILY TYPE BY AGE OF RELATED CHILDREN UNDER 18 YEARS','Alias':'Children_in_male_householder_families_at_or_above_poverty_level'})\n",
    "\n",
    "# Group 4: poverty status by household type by householder's highest education level\n",
    "\n",
    "metric_list.append({'Name':'B17018_004E', 'Label':'Estimate!!Total:!!Income in the past 12 months below poverty level:!!Married-couple family:!!Less than high school graduate', 'Concept':'POVERTY STATUS IN THE PAST 12 MONTHS OF FAMILIES BY HOUSEHOLD TYPE BY EDUCATIONAL ATTAINMENT OF HOUSEHOLDER','Alias':'Number_of_married-couple_families_below_the_poverty_level_where_householder_did_not_graduate_high_school'})\n",
    "\n",
    "metric_list.append({'Name':'B17018_021E', 'Label':'Estimate!!Total:!!Income in the past 12 months at or above poverty level:!!Married-couple family:!!Less than high school graduate', 'Concept':'POVERTY STATUS IN THE PAST 12 MONTHS OF FAMILIES BY HOUSEHOLD TYPE BY EDUCATIONAL ATTAINMENT OF HOUSEHOLDER','Alias':'Number_of_married-couple_families_at_or_above_the_poverty_level_where_householder_did_not_graduate_high_school'})\n",
    "\n",
    "metric_list.append({'Name':'B17018_005E', 'Label':'Estimate!!Total:!!Income in the past 12 months below poverty level:!!Married-couple family:!!High school graduate (includes equivalency)', 'Concept':'POVERTY STATUS IN THE PAST 12 MONTHS OF FAMILIES BY HOUSEHOLD TYPE BY EDUCATIONAL ATTAINMENT OF HOUSEHOLDER','Alias':'Number_of_married-couple_families_below_the_poverty_level_where_householder\\'s_highest_education_=_high_school_graduate/equivalent'})\n",
    "\n",
    "metric_list.append({'Name':'B17018_022E', 'Label':'Estimate!!Total:!!Income in the past 12 months at or above poverty level:!!Married-couple family:!!High school graduate (includes equivalency)', 'Concept':'POVERTY STATUS IN THE PAST 12 MONTHS OF FAMILIES BY HOUSEHOLD TYPE BY EDUCATIONAL ATTAINMENT OF HOUSEHOLDER','Alias':'Number_of_married-couple_families_at_or_above_the_poverty_level_where_householder\\'s_highest_education_=_high_school_graduate/equivalent'})\n",
    "\n",
    "metric_list.append({'Name':'B17018_006E', 'Label':'Estimate!!Total:!!Income in the past 12 months below poverty level:!!Married-couple family:!!Some college, associate\\'s degree', 'Concept':'POVERTY STATUS IN THE PAST 12 MONTHS OF FAMILIES BY HOUSEHOLD TYPE BY EDUCATIONAL ATTAINMENT OF HOUSEHOLDER','Alias':'Number_of_married-couple_families_below_the_poverty_level_where_householder\\'s_highest_education_=_some_college_or_associate\\'s_degree'})\n",
    "\n",
    "metric_list.append({'Name':'B17018_023E', 'Label':'Estimate!!Total:!!Income in the past 12 months at or above poverty level:!!Married-couple family:!!Some college, associate\\'s degree', 'Concept':'POVERTY STATUS IN THE PAST 12 MONTHS OF FAMILIES BY HOUSEHOLD TYPE BY EDUCATIONAL ATTAINMENT OF HOUSEHOLDER','Alias':'Number_of_married-couple_families_at_or_above_the_poverty_level_where_householder\\'s_highest_education_=_some_college_or_associate\\'s_degree'})\n",
    "\n",
    "metric_list.append({'Name':'B17018_007E', 'Label':'Estimate!!Total:!!Income in the past 12 months below poverty level:!!Married-couple family:!!Bachelor\\'s degree or higher', 'Concept':'POVERTY STATUS IN THE PAST 12 MONTHS OF FAMILIES BY HOUSEHOLD TYPE BY EDUCATIONAL ATTAINMENT OF HOUSEHOLDER','Alias':'Number_of_married-couple_families_below_the_poverty_level_where_householder\\'s_highest_education_level_=_bachelor\\'s_degree_or_higher'})\n",
    "\n",
    "metric_list.append({'Name':'B17018_024E', 'Label':'Estimate!!Total:!!Income in the past 12 months at or above poverty level:!!Married-couple family:!!Bachelor\\'s degree or higher', 'Concept':'POVERTY STATUS IN THE PAST 12 MONTHS OF FAMILIES BY HOUSEHOLD TYPE BY EDUCATIONAL ATTAINMENT OF HOUSEHOLDER','Alias':'Number_of_married-couple_families_at_or_above_the_poverty_level_where_householder\\'s_highest_education_level_=_bachelor\\'s_degree_or_higher'})\n",
    "\n",
    "metric_list.append({'Name':'B17018_015E', 'Label':'Estimate!!Total:!!Income in the past 12 months below poverty level:!!Other families:!!Female householder, no spouse present:!!Less than high school graduate', 'Concept':'POVERTY STATUS IN THE PAST 12 MONTHS OF FAMILIES BY HOUSEHOLD TYPE BY EDUCATIONAL ATTAINMENT OF HOUSEHOLDER','Alias':'Number_of_female-householder_families_below_the_poverty_level_where_householder_did_not_graduate_high_school'})\n",
    "\n",
    "metric_list.append({'Name':'B17018_032E', 'Label':'Estimate!!Total:!!Income in the past 12 months at or above poverty level:!!Other families:!!Female householder, no spouse present:!!Less than high school graduate', 'Concept':'POVERTY STATUS IN THE PAST 12 MONTHS OF FAMILIES BY HOUSEHOLD TYPE BY EDUCATIONAL ATTAINMENT OF HOUSEHOLDER','Alias':'Number_of_female-householder_families_at_or_above_the_poverty_level_where_householder_did_not_graduate_high_school'})\n",
    "\n",
    "metric_list.append({'Name':'B17018_016E', 'Label':'Estimate!!Total:!!Income in the past 12 months below poverty level:!!Other families:!!Female householder, no spouse present:!!High school graduate (includes equivalency)', 'Concept':'POVERTY STATUS IN THE PAST 12 MONTHS OF FAMILIES BY HOUSEHOLD TYPE BY EDUCATIONAL ATTAINMENT OF HOUSEHOLDER','Alias':'Number_of_female-householder_families_below_the_poverty_level_where_householder\\'s_highest_education_=_high_school_graduate/equivalent'})\n",
    "\n",
    "metric_list.append({'Name':'B17018_033E', 'Label':'Estimate!!Total:!!Income in the past 12 months at or above poverty level:!!Other families:!!Female householder, no spouse present:!!High school graduate (includes equivalency)', 'Concept':'POVERTY STATUS IN THE PAST 12 MONTHS OF FAMILIES BY HOUSEHOLD TYPE BY EDUCATIONAL ATTAINMENT OF HOUSEHOLDER','Alias':'Number_of_female-householder_families_at_or_above_the_poverty_level_where_householder\\'s_highest_education_=_high_school_graduate/equivalent'})\n",
    "\n",
    "metric_list.append({'Name':'B17018_017E', 'Label':'Estimate!!Total:!!Income in the past 12 months below poverty level:!!Other families:!!Female householder, no spouse present:!!Some college, associate\\'s degree', 'Concept':'POVERTY STATUS IN THE PAST 12 MONTHS OF FAMILIES BY HOUSEHOLD TYPE BY EDUCATIONAL ATTAINMENT OF HOUSEHOLDER','Alias':'Number_of_female-householder_families_below_the_poverty_level_where_householder\\'s_highest_education_=_some_college_or_associate\\'s_degree'})\n",
    "\n",
    "metric_list.append({'Name':'B17018_034E', 'Label':'Estimate!!Total:!!Income in the past 12 months at or above poverty level:!!Other families:!!Female householder, no spouse present:!!Some college, associate\\'s degree', 'Concept':'POVERTY STATUS IN THE PAST 12 MONTHS OF FAMILIES BY HOUSEHOLD TYPE BY EDUCATIONAL ATTAINMENT OF HOUSEHOLDER','Alias':'Number_of_female-householder_families_at_or_above_the_poverty_level_where_householder\\'s_highest_education_=_some_college_or_associate\\'s_degree'})\n",
    "\n",
    "metric_list.append({'Name':'B17018_018E', 'Label':'Estimate!!Total:!!Income in the past 12 months below poverty level:!!Other families:!!Female householder, no spouse present:!!Bachelor\\'s degree or higher', 'Concept':'POVERTY STATUS IN THE PAST 12 MONTHS OF FAMILIES BY HOUSEHOLD TYPE BY EDUCATIONAL ATTAINMENT OF HOUSEHOLDER','Alias':'Number_of_female-householder_families_below_the_poverty_level_where_householder\\'s_highest_education_level_=_bachelor\\'s_degree_or_higher'})\n",
    "\n",
    "metric_list.append({'Name':'B17018_035E', 'Label':'Estimate!!Total:!!Income in the past 12 months at or above poverty level:!!Other families:!!Female householder, no spouse present:!!Bachelor\\'s degree or higher', 'Concept':'POVERTY STATUS IN THE PAST 12 MONTHS OF FAMILIES BY HOUSEHOLD TYPE BY EDUCATIONAL ATTAINMENT OF HOUSEHOLDER','Alias':'Number_of_female-householder_families_at_or_above_the_poverty_level_where_householder\\'s_highest_education_level_=_bachelor\\'s_degree_or_higher'})\n",
    "\n",
    "\n",
    "# Group 5: Highest education level completed \n",
    "\n",
    "metric_list.append({'Name':'B16010_001E', 'Label':'Estimate!!Total:', 'Concept':'EDUCATIONAL ATTAINMENT AND EMPLOYMENT STATUS BY LANGUAGE SPOKEN AT HOME FOR THE POPULATION 25 YEARS AND OVER','Alias':'Total_number_of_individuals_25+y/o_in_table_B16010'})\n",
    "\n",
    "metric_list.append({'Name':'B16010_002E', 'Label':'\tEstimate!!Total:!!Less than high school graduate:', 'Concept':'EDUCATIONAL ATTAINMENT AND EMPLOYMENT STATUS BY LANGUAGE SPOKEN AT HOME FOR THE POPULATION 25 YEARS AND OVER','Alias':'Number_of_individuals_25+y/o_who_did_not_graduate_high_school'})\n",
    "\n",
    "metric_list.append({'Name':'B16010_015E', 'Label':'Estimate!!Total:!!High school graduate (includes equivalency):', 'Concept':'EDUCATIONAL ATTAINMENT AND EMPLOYMENT STATUS BY LANGUAGE SPOKEN AT HOME FOR THE POPULATION 25 YEARS AND OVER','Alias':'Number_of_individuals_25+y/o_whose_highest_education_level_=_high_school_graduate/equivalent'})\n",
    "\n",
    "metric_list.append({'Name':'B16010_028E', 'Label':'Estimate!!Total:!!some_college_or_associate\\'s degree:', 'Concept':'EDUCATIONAL ATTAINMENT AND EMPLOYMENT STATUS BY LANGUAGE SPOKEN AT HOME FOR THE POPULATION 25 YEARS AND OVER','Alias':'Number_of_individuals_25+_y/o_whose_highest_education_level_=_some_college/associate\\'s_degree'})\n",
    "\n",
    "metric_list.append({'Name':'B16010_041E', 'Label':'Estimate!!Total:!!Bachelor\\'s degree or higher:', 'Concept':'EDUCATIONAL ATTAINMENT AND EMPLOYMENT STATUS BY LANGUAGE SPOKEN AT HOME FOR THE POPULATION 25 YEARS AND OVER','Alias':'Number_of_individuals_25+_y/o_whose_highest_education_level_=_bachelor\\'s_degree_or_higher'})\n",
    "\n",
    "\n",
    "\n",
    "# metric_list.append({'Name':'', 'Label':'', 'Concept':'','Alias':''}) # Template for additional dictioanries"
   ]
  },
  {
   "cell_type": "code",
   "execution_count": null,
   "metadata": {},
   "outputs": [],
   "source": [
    "len(metric_list) # Shows the number of queries to be processed by the Census API"
   ]
  },
  {
   "cell_type": "markdown",
   "metadata": {},
   "source": [
    "The following code provides an example of how the census library works. It derives from the examples shown at https://github.com/datamade/census, but differs in that the query is returned for a particular zip code rather than for a particular state. \n",
    "\n",
    "The code following 'NAME' in this example is one of the variable codes entered into the dictionary list above."
   ]
  },
  {
   "cell_type": "code",
   "execution_count": null,
   "metadata": {},
   "outputs": [],
   "source": [
    "sample_year = 2019\n",
    "sample_zip = 10940\n",
    "sample_query = c.acs5.get(('NAME', 'B17018_003E'), {'for': 'zip code tabulation area:{}'.format(sample_zip), 'in':'state:36', 'year':sample_year}) # 36 is the FIPS code for New York. This can be looked up online; alternately, you can find it using the us library referenced in https://github.com/datamade/census.\n",
    "# the {}.format() convention allows a variable to be passed into the 'zip code tabulation area:' string. For an overview of this method, see https://docs.python.org/3/library/string.html#formatstrings. \n",
    "sample_query"
   ]
  },
  {
   "cell_type": "markdown",
   "metadata": {},
   "source": [
    "The output of the above query is a list of dictionaries. Since only one zip code was entered, the length of this list is 1, but it will be over 33,000 in the for loop below. The number following B17018_003E is the value represented by that code (in this case, the number of married-couple families below the poverty level) for the sample zip code.\n",
    "\n",
    "The for loop below is the heart of this program. It performs census queries using the codes in the dictionaries within metric_list for all available zip codes, then converts the results into a Pandas DataFrame using list comprehensions and the pd.merge() function. "
   ]
  },
  {
   "cell_type": "code",
   "execution_count": null,
   "metadata": {},
   "outputs": [],
   "source": [
    "for i in range(len(metric_list)):\n",
    "    census_query = c.acs5.get(('NAME', metric_list[i]['Name']), {'for': 'zip code tabulation area:*', 'in':'state:*', 'year':year})\n",
    "    #metric_list[i]['Name'] returns the variable code (e.g. B17006_012E) that the get() function will process. \n",
    "    # The asterisks after zip code tabulation area and state instruct the get() function to return results for all zip codes in all states. As shown in the earlier example, however, you can also select results from one particular zip code and/or state. \n",
    "    zip_list = [census_query[j]['NAME'][-5:] for j in range(len(census_query))] # Refer back to the output from the sample query. the 'NAME' component of census_query equals 'ZCTA5' plus a 5-digit zip code. Therefore, [-5:] is used to select only the 5-digit zip code.\n",
    "    # zip_list, along with state_list and metric, use list comprehensions. See https://docs.python.org/3/tutorial/datastructures.html and the last example shown on https://pandas.pydata.org/pandas-docs/version/0.22/generated/pandas.DataFrame.append.html .\n",
    "    # j is used here to distinguish the range of zip codes shown in the list comprehension from the range of queries shown in the above for loop.\n",
    "    state_list = [census_query[j]['state'] for j in range(len(census_query))] # Retrieves the state FIPS code from the output\n",
    "    metric = [census_query[j][metric_list[i]['Name']] for j in range(len(census_query))] # census_query[j] retrieves a query result for a particular zip code. As shown in the sample query, the key for the metric equals the code for the current query. That code can be accessed through metric_list[i]['Name'].  \n",
    "    df_metric = pd.DataFrame(data={'Zip':zip_list, 'State':state_list, metric_list[i]['Alias']:metric}) # This line creates a dictionary with 3 key-value pairs: (1) 'Zip' and zip_list; (2) 'State' and state_list; and (3) the 'Alias' value within metric_list for the current query and metric. Note that zip_list, state_list, and metric are all lists. This new dictionary is then converted to the DataFrame df_metric using pd.DataFrame.\n",
    "\n",
    "    if i == 0: \n",
    "        df_results = df_metric # if the above instance of df_metric was the first to be created, it will serve as the basis for df_results.\n",
    "    # df_list.append(df_test)\n",
    "    else:\n",
    "        df_results = df_results.merge(right=df_metric,how='outer') # Further instances of df_metric are added to the right of df_results using pd.merge. As a result, each 'Alias' value for each query will become a column label within df_results for its corresponding query.\n",
    "\n",
    "df_results"
   ]
  },
  {
   "cell_type": "markdown",
   "metadata": {},
   "source": [
    "I admit that many of the column names are obscenely long and unwieldy. This is less of an issue when viewing the table as a CSV export (which I'll perform later), since spreadsheet software can make the columns a uniform width while allowing the full name to be displayed in a separate box. An alternative to these long names, though, would be to substitute in shorter names, then include a key explaining each of their meanings.\n",
    "\n",
    "The following block of code reports the number of census datapoints that df_results currently contains. (Some row-column pairs are empty, so df.count() is used to determine the number of cells that do contain data.)"
   ]
  },
  {
   "cell_type": "code",
   "execution_count": null,
   "metadata": {},
   "outputs": [],
   "source": [
    "cell_counts = df_results.count() # Creates a series that contains the number of cells with data in each column.\n",
    "total_count = 0\n",
    "print(len(cell_counts))\n",
    "for i in range(2, len(cell_counts)): # For loop starts at 2 to exclude the first two columns, which merely contain zip and state information.\n",
    "    total_count += cell_counts[i]\n",
    "print(\"There are\",'{:,}'.format(total_count),\"cells with census data in df_results so far.\") # See https://docs.python.org/3/library/string.html#formatstrings for an overview of the .format() function\n",
    "\n"
   ]
  },
  {
   "cell_type": "markdown",
   "metadata": {},
   "source": [
    "So far, the values shown in the DataFrame are nominal in nature. For example, the table reports on the number of married-couple households with one or more children, but doesn't say what *proportion* have at laest one child--which is much more useful when comparing different zip codes.\n",
    "\n",
    "Therefore, in the following code block, I added additional columns to the DataFrame that generate various proportions. Some of these were generated using pre-existing totals as a denominator, whereas others used the sum of two diferent statistics as the denominator. (For example, to calculate the proportion of children below the poverty level for a given zip code, I divided the number of children below the poverty level by the sum of (1) children below the poverty level and (2) children above the poverty level. This was a useful strategy when a given Census table didn't have a 'totals' row.\n",
    "\n",
    "(When creating proportions, be careful about using a total in one table as the denominator for a proportion calculation that involves a separate table. For example, if Table A says that there are 10,000 kids in a zip code, and Table B says that there are 2,000 kids below the poverty line, you may be tempted to conclude that the proportion of children below the poverty line equals 2,000/10,000 = 0.2. However, suppose not all the kids identified in Table A show up in Table B, and that Table B doesn't have a totals row. In that case, you'd want to divide the proportion of kids in Table B above below the poverty level (2,000) by the number in Table B above the poverty level (let's say it's 6,000) to arrive at a more accurate proportion--in this case, 2,000/(2,000+6,000) = 2,000/8,000 = 25%.)"
   ]
  },
  {
   "cell_type": "code",
   "execution_count": null,
   "metadata": {},
   "outputs": [],
   "source": [
    "def calculate_proportions(df_results): \n",
    "    df_results['Married_couple_households_with_one_or_more_children_as_proportion_of_all_households'] = df_results['Married_couple_households_with_1_or_more_children']/df_results['Households']\n",
    "\n",
    "    df_results['Married_couple_households_with_one_or_more_children_as_proportion_of_all_households_with_one_or_more_children'] = df_results['Married_couple_households_with_1_or_more_children']/df_results['Households_with_1_or_more_children']\n",
    "\n",
    "    df_results['Proportion_of_children_below_poverty_level'] = df_results['Children_below_poverty_level']/(df_results['Children_below_poverty_level'] + df_results['Children_at_or_above_poverty_level'])\n",
    "\n",
    "    df_results['Proportion_of_children_in_married_couple_families_below_poverty_level'] = df_results['Children_in_married_couple_families_below_poverty_level']/(df_results['Children_in_married_couple_families_below_poverty_level'] + df_results['Children_in_married_couple_families_at_or_above_poverty_level'])\n",
    "\n",
    "    df_results['Proportion_of_children_in_female_householder_families_below_poverty_level'] = df_results['Children_in_female_householder_families_below_poverty_level']/(df_results['Children_in_female_householder_families_below_poverty_level'] + df_results['Children_in_female_householder_families_at_or_above_poverty_level'])\n",
    "\n",
    "    df_results['Proportion_of_children_in_male_householder_families_below_poverty_level'] = df_results['Children_in_male_householder_families_below_poverty_level']/(df_results['Children_in_male_householder_families_below_poverty_level'] + df_results['Children_in_male_householder_families_at_or_above_poverty_level'])\n",
    "\n",
    "    # Calculating proportions of residents living below the poverty level by education and household type\n",
    "\n",
    "    df_results['Proportion_of_married-couple_families_below_the_poverty_level_where_householder_did_not_graduate_high_school'] = df_results['Number_of_married-couple_families_below_the_poverty_level_where_householder_did_not_graduate_high_school']/(df_results['Number_of_married-couple_families_below_the_poverty_level_where_householder_did_not_graduate_high_school']+df_results['Number_of_married-couple_families_at_or_above_the_poverty_level_where_householder_did_not_graduate_high_school'])\n",
    "\n",
    "    df_results['Proportion_of_married-couple_families_below_the_poverty_level_where_householder\\'s_highest_education_=_high_school_graduate/equivalent'] = df_results['Number_of_married-couple_families_below_the_poverty_level_where_householder\\'s_highest_education_=_high_school_graduate/equivalent']/(df_results['Number_of_married-couple_families_below_the_poverty_level_where_householder\\'s_highest_education_=_high_school_graduate/equivalent']+df_results['Number_of_married-couple_families_at_or_above_the_poverty_level_where_householder\\'s_highest_education_=_high_school_graduate/equivalent'])\n",
    "\n",
    "    df_results['Proportion_of_married-couple_families_below_the_poverty_level_where_householder\\'s_highest_education_=_some_college_or_associate\\'s_degree'] = df_results['Number_of_married-couple_families_below_the_poverty_level_where_householder\\'s_highest_education_=_some_college_or_associate\\'s_degree']/(df_results['Number_of_married-couple_families_below_the_poverty_level_where_householder\\'s_highest_education_=_some_college_or_associate\\'s_degree']+df_results['Number_of_married-couple_families_at_or_above_the_poverty_level_where_householder\\'s_highest_education_=_some_college_or_associate\\'s_degree'])\n",
    "\n",
    "    df_results['Proportion_of_married-couple_families_below_the_poverty_level_where_householder\\'s_highest_education_level_=_bachelor\\'s_degree_or_higher'] = df_results['Number_of_married-couple_families_below_the_poverty_level_where_householder\\'s_highest_education_level_=_bachelor\\'s_degree_or_higher']/(df_results['Number_of_married-couple_families_below_the_poverty_level_where_householder\\'s_highest_education_level_=_bachelor\\'s_degree_or_higher']+df_results['Number_of_married-couple_families_at_or_above_the_poverty_level_where_householder\\'s_highest_education_level_=_bachelor\\'s_degree_or_higher'])\n",
    "\n",
    "\n",
    "    df_results['Proportion_of_female-householder_families_below_the_poverty_level_where_householder_did_not_graduate_high_school'] = df_results['Number_of_female-householder_families_below_the_poverty_level_where_householder_did_not_graduate_high_school']/(df_results['Number_of_female-householder_families_below_the_poverty_level_where_householder_did_not_graduate_high_school']+df_results['Number_of_female-householder_families_at_or_above_the_poverty_level_where_householder_did_not_graduate_high_school'])\n",
    "\n",
    "    df_results['Proportion_of_female-householder_families_below_the_poverty_level_where_householder\\'s_highest_education_=_high_school_graduate/equivalent'] = df_results['Number_of_female-householder_families_below_the_poverty_level_where_householder\\'s_highest_education_=_high_school_graduate/equivalent']/(df_results['Number_of_female-householder_families_below_the_poverty_level_where_householder\\'s_highest_education_=_high_school_graduate/equivalent']+df_results['Number_of_female-householder_families_at_or_above_the_poverty_level_where_householder\\'s_highest_education_=_high_school_graduate/equivalent'])\n",
    "\n",
    "    df_results['Proportion_of_female-householder_families_below_the_poverty_level_where_householder\\'s_highest_education_=_some_college_or_associate\\'s_degree'] = df_results['Number_of_female-householder_families_below_the_poverty_level_where_householder\\'s_highest_education_=_some_college_or_associate\\'s_degree']/(df_results['Number_of_female-householder_families_below_the_poverty_level_where_householder\\'s_highest_education_=_some_college_or_associate\\'s_degree']+df_results['Number_of_female-householder_families_at_or_above_the_poverty_level_where_householder\\'s_highest_education_=_some_college_or_associate\\'s_degree'])\n",
    "\n",
    "    df_results['Proportion_of_female-householder_families_below_the_poverty_level_where_householder\\'s_highest_education_level_=_bachelor\\'s_degree_or_higher'] = df_results['Number_of_female-householder_families_below_the_poverty_level_where_householder\\'s_highest_education_level_=_bachelor\\'s_degree_or_higher']/(df_results['Number_of_female-householder_families_below_the_poverty_level_where_householder\\'s_highest_education_level_=_bachelor\\'s_degree_or_higher']+df_results['Number_of_female-householder_families_at_or_above_the_poverty_level_where_householder\\'s_highest_education_level_=_bachelor\\'s_degree_or_higher'])\n",
    "\n",
    "    df_results['Proportion_of_individuals_25+y/o_who_did_not_graduate_high_school'] = df_results['Number_of_individuals_25+y/o_who_did_not_graduate_high_school']/(df_results['Total_number_of_individuals_25+y/o_in_table_B16010'])\n",
    "\n",
    "    df_results['Proportion_of_individuals_25+y/o_whose_highest_education_level_=_high_school_graduate/equivalent'] = df_results['Number_of_individuals_25+y/o_whose_highest_education_level_=_high_school_graduate/equivalent']/(df_results['Total_number_of_individuals_25+y/o_in_table_B16010'])\n",
    "\n",
    "    df_results['Proportion_of_individuals_25+_y/o_whose_highest_education_level_=_some_college/associate\\'s_degree'] = df_results['Number_of_individuals_25+_y/o_whose_highest_education_level_=_some_college/associate\\'s_degree']/(df_results['Total_number_of_individuals_25+y/o_in_table_B16010'])\n",
    "\n",
    "    df_results['Proportion_of_individuals_25+_y/o_whose_highest_education_level_=_bachelor\\'s_degree_or_higher'] = df_results['Number_of_individuals_25+_y/o_whose_highest_education_level_=_bachelor\\'s_degree_or_higher']/(df_results['Total_number_of_individuals_25+y/o_in_table_B16010'])\n",
    "\n",
    "\n",
    "    # df_results[''] = df_results['']/(df_results['']+df_results[''])\n",
    "\n",
    "\n",
    "    df_results.sort_values('Married_couple_households_with_one_or_more_children_as_proportion_of_all_households',ascending=False,inplace=True)\n",
    "    df_results.reset_index(drop=True,inplace=True)\n",
    "    return df_results"
   ]
  },
  {
   "cell_type": "code",
   "execution_count": null,
   "metadata": {},
   "outputs": [],
   "source": [
    "df_results = calculate_proportions(df_results)\n"
   ]
  },
  {
   "cell_type": "markdown",
   "metadata": {},
   "source": [
    "Here's how df_results looks with the additional proportions columns added in:"
   ]
  },
  {
   "cell_type": "code",
   "execution_count": null,
   "metadata": {},
   "outputs": [],
   "source": [
    "df_results"
   ]
  },
  {
   "cell_type": "markdown",
   "metadata": {},
   "source": [
    "A look at the first few rows in this table reveals that some median household income values are clearly inaccurate! $-666,666,666 is *not* the actual median household income in any zip code, yet that's the value listed for 2,194 counties, as shown below:"
   ]
  },
  {
   "cell_type": "code",
   "execution_count": null,
   "metadata": {},
   "outputs": [],
   "source": [
    "len(df_results.query(\"Median_household_income == -666666666\"))"
   ]
  },
  {
   "cell_type": "markdown",
   "metadata": {},
   "source": [
    "This means that, when performing average calculations across the entire dataset, you must be extremely careful--otherwise, you'll end up with results like the one below:"
   ]
  },
  {
   "cell_type": "code",
   "execution_count": null,
   "metadata": {},
   "outputs": [],
   "source": [
    "np.mean(df_results['Median_household_income'])"
   ]
  },
  {
   "cell_type": "markdown",
   "metadata": {},
   "source": [
    "These results are, of course, skewed by the thousands of -666,666,666 values. The U.S. would be in dire shape if the average median household income among zip codes were truly $-44,154,242! "
   ]
  },
  {
   "cell_type": "markdown",
   "metadata": {},
   "source": [
    "I then exported two versions of this DataFrame to a CSV. The first version (df_results_1k_plus_households) only includes zip codes with at least 1,000 households, since lower sample sizes in smaller zip codes can skew the sample sizes shown. The second version contains all zip codes present in the dataset."
   ]
  },
  {
   "cell_type": "code",
   "execution_count": null,
   "metadata": {},
   "outputs": [],
   "source": [
    "df_results_1k_plus_households = df_results.query(\"Households > 1000\")\n",
    "df_results_1k_plus_households.to_csv('census_query_results_1k_plus_households.csv')\n",
    "df_results.to_csv('census_query_results.csv')"
   ]
  },
  {
   "cell_type": "markdown",
   "metadata": {},
   "source": [
    "As shown below, running the same average median household calculation on the reduced dataset produces a more accurate-looking number. Nevertheless, it would still be better to look through the DataFrame beforehand and perform any necessary data cleaning."
   ]
  },
  {
   "cell_type": "code",
   "execution_count": null,
   "metadata": {},
   "outputs": [],
   "source": [
    "np.mean(df_results_1k_plus_households['Median_household_income'])"
   ]
  },
  {
   "cell_type": "markdown",
   "metadata": {},
   "source": [
    "That concludes the main part of this tutorial program. I hope that you find these examples useful in performing your own census data analysis!\n",
    "\n",
    "These census DataFrames can also be a great source of information for regression analyses. The following code blocks show how one of the DataFrames can be modified to serve as a data source for regressions (albeit without any data cleaning or checking). In the future, I may move these regressions over to a separate tutorial program and provide detailed explanations of the code. In the meantime, I've left the code in place and added some brief explanations. "
   ]
  },
  {
   "cell_type": "markdown",
   "metadata": {},
   "source": [
    "The first regression examined the relationship between poverty rates and whether children were in a married-couple family as opposed to a female-householder one. This involved creating a reduced version of the df_results_1k_plus_households DataFrame:"
   ]
  },
  {
   "cell_type": "code",
   "execution_count": null,
   "metadata": {},
   "outputs": [],
   "source": [
    "df_regression_test = df_results_1k_plus_households.copy()\n",
    "df_regression_test.dropna(subset=['Proportion_of_children_in_female_householder_families_below_poverty_level','Proportion_of_children_in_married_couple_families_below_poverty_level'],inplace=True)\n",
    "df_regression_test = df_regression_test[['Zip','Proportion_of_children_in_female_householder_families_below_poverty_level','Proportion_of_children_in_married_couple_families_below_poverty_level']].copy()"
   ]
  },
  {
   "cell_type": "code",
   "execution_count": null,
   "metadata": {},
   "outputs": [],
   "source": [
    "df_regression_test"
   ]
  },
  {
   "cell_type": "markdown",
   "metadata": {},
   "source": [
    "I then converted the two different variable columns into two different rows for each zip code using pd.melt(), which would make it easier to create categorical or 'dummy' variables for the regression analysis:"
   ]
  },
  {
   "cell_type": "code",
   "execution_count": null,
   "metadata": {},
   "outputs": [],
   "source": [
    "df_regression_test_melt = pd.melt(df_regression_test.copy(), id_vars = ['Zip']) # https://pandas.pydata.org/pandas-docs/version/0.20/generated/pandas.melt.html\n",
    "df_regression_test_melt"
   ]
  },
  {
   "cell_type": "markdown",
   "metadata": {},
   "source": [
    "The following code block uses pd.get_dummies to generate categorical variables, then renames the resulting column for better legibility. "
   ]
  },
  {
   "cell_type": "code",
   "execution_count": null,
   "metadata": {},
   "outputs": [],
   "source": [
    "df_regression_test_melt = pd.get_dummies(data = df_regression_test_melt.copy(), columns=['variable'], drop_first=True)\n",
    "df_regression_test_melt.rename(columns={'variable_Proportion_of_children_in_married_couple_families_below_poverty_level':'in_married_household','value':'proportion_below_poverty_level'},inplace=True)\n",
    "df_regression_test_melt"
   ]
  },
  {
   "cell_type": "markdown",
   "metadata": {},
   "source": [
    "With this table in place, I was able to perform the regression analysis."
   ]
  },
  {
   "cell_type": "code",
   "execution_count": null,
   "metadata": {},
   "outputs": [],
   "source": [
    "y = df_regression_test_melt['proportion_below_poverty_level'] # Contains the list of scores for the current grade (or for the school total in the case of the 'Total' column)\n",
    "x_vars = df_regression_test_melt[['in_married_household']]\n",
    "x_vars = sm.add_constant(x_vars) \n",
    "model = sm.OLS(y,x_vars)\n",
    "results = model.fit() # the resulst variable contains the information needed to fill in the other rows within the DataFrame.\n",
    "results.summary()"
   ]
  },
  {
   "cell_type": "markdown",
   "metadata": {},
   "source": [
    "My second regression analysis aimed to evaluate the impact of family type (married vs. female-householder-only) and education level (no high school diploma; high school diploma/equivalent; associate's/some college; and bachelor's or higher) on poverty status. This first involved retrieving data on income for both family type and education."
   ]
  },
  {
   "cell_type": "code",
   "execution_count": null,
   "metadata": {},
   "outputs": [],
   "source": [
    "df_regression_test_2 = df_results_1k_plus_households.copy()\n",
    "df_regression_test_2.dropna(subset=['Proportion_of_married-couple_families_below_the_poverty_level_where_householder_did_not_graduate_high_school','Proportion_of_married-couple_families_below_the_poverty_level_where_householder\\'s_highest_education_=_high_school_graduate/equivalent', 'Proportion_of_married-couple_families_below_the_poverty_level_where_householder\\'s_highest_education_=_some_college_or_associate\\'s_degree', 'Proportion_of_married-couple_families_below_the_poverty_level_where_householder\\'s_highest_education_level_=_bachelor\\'s_degree_or_higher', 'Proportion_of_female-householder_families_below_the_poverty_level_where_householder_did_not_graduate_high_school', 'Proportion_of_female-householder_families_below_the_poverty_level_where_householder\\'s_highest_education_=_high_school_graduate/equivalent', 'Proportion_of_female-householder_families_below_the_poverty_level_where_householder\\'s_highest_education_=_some_college_or_associate\\'s_degree', 'Proportion_of_female-householder_families_below_the_poverty_level_where_householder\\'s_highest_education_level_=_bachelor\\'s_degree_or_higher'],inplace=True)\n",
    "df_regression_test_2 = df_regression_test_2[['Zip','Proportion_of_married-couple_families_below_the_poverty_level_where_householder_did_not_graduate_high_school','Proportion_of_married-couple_families_below_the_poverty_level_where_householder\\'s_highest_education_=_high_school_graduate/equivalent', 'Proportion_of_married-couple_families_below_the_poverty_level_where_householder\\'s_highest_education_=_some_college_or_associate\\'s_degree', 'Proportion_of_married-couple_families_below_the_poverty_level_where_householder\\'s_highest_education_level_=_bachelor\\'s_degree_or_higher', 'Proportion_of_female-householder_families_below_the_poverty_level_where_householder_did_not_graduate_high_school', 'Proportion_of_female-householder_families_below_the_poverty_level_where_householder\\'s_highest_education_=_high_school_graduate/equivalent', 'Proportion_of_female-householder_families_below_the_poverty_level_where_householder\\'s_highest_education_=_some_college_or_associate\\'s_degree', 'Proportion_of_female-householder_families_below_the_poverty_level_where_householder\\'s_highest_education_level_=_bachelor\\'s_degree_or_higher']].copy()"
   ]
  },
  {
   "cell_type": "code",
   "execution_count": null,
   "metadata": {},
   "outputs": [],
   "source": [
    "df_regression_test_2"
   ]
  },
  {
   "cell_type": "markdown",
   "metadata": {},
   "source": [
    "Next, I once again 'melted' various columns into the same column in order to facilitate the creation of categorical variables. I also created columns that would store these categorical variables."
   ]
  },
  {
   "cell_type": "code",
   "execution_count": null,
   "metadata": {},
   "outputs": [],
   "source": [
    "df_regression_test_2_melt = pd.melt(df_regression_test_2.copy(), id_vars = ['Zip'])\n",
    "df_regression_test_2_melt['Married'] = 0\n",
    "df_regression_test_2_melt['highest_ed_=_high_school_grad'] = 0\n",
    "df_regression_test_2_melt['highest_ed_=_some_college_or_associate\\'s'] = 0\n",
    "df_regression_test_2_melt['highest_ed_=_bachelor\\'s_or_higher'] = 0"
   ]
  },
  {
   "cell_type": "code",
   "execution_count": null,
   "metadata": {},
   "outputs": [],
   "source": [
    "df_regression_test_2_melt"
   ]
  },
  {
   "cell_type": "markdown",
   "metadata": {},
   "source": [
    "The output of the following for loop served as a reference for which column numbers corresponded to which variables."
   ]
  },
  {
   "cell_type": "code",
   "execution_count": null,
   "metadata": {},
   "outputs": [],
   "source": [
    "for i in range(len(df_regression_test_2_melt.columns)):\n",
    "    print(\"Column\",i,\":\\t\",df_regression_test_2_melt.columns[i])"
   ]
  },
  {
   "cell_type": "markdown",
   "metadata": {},
   "source": [
    "In the next for loop, I filled in the categorical variables by seeing whether certain keywords ('married', 'some_college', etc.) were present in the variable column. For instance, given the variable 'Proportion_of_married-couple_families_below_the_poverty_level_where_householder_did_not_graduate_high_school', the for loop returned 1 for the 'Married' column and 0 for the other columns. "
   ]
  },
  {
   "cell_type": "code",
   "execution_count": null,
   "metadata": {},
   "outputs": [],
   "source": [
    "for i in range(len(df_regression_test_2_melt)):\n",
    "    variable = df_regression_test_2_melt.iloc[i, 1]\n",
    "    if 'married' in variable:\n",
    "        df_regression_test_2_melt.iloc[i, 3] = 1\n",
    "    if 'high_school_graduate' in variable:\n",
    "        df_regression_test_2_melt.iloc[i, 4] = 1\n",
    "    if 'some_college' in variable:\n",
    "        df_regression_test_2_melt.iloc[i, 5] = 1\n",
    "    if 'bachelor' in variable:\n",
    "        df_regression_test_2_melt.iloc[i, 6] = 1\n"
   ]
  },
  {
   "cell_type": "code",
   "execution_count": null,
   "metadata": {},
   "outputs": [],
   "source": [
    "df_regression_test_2_melt.iloc[0,1]"
   ]
  },
  {
   "cell_type": "code",
   "execution_count": null,
   "metadata": {},
   "outputs": [],
   "source": [
    "df_regression_test_2_melt.rename(columns={'value':'proportion_below_poverty_level'},inplace=True)\n",
    "df_regression_test_2.to_csv('marriage_education_poverty_regression.csv')\n",
    "df_regression_test_2_melt"
   ]
  },
  {
   "cell_type": "markdown",
   "metadata": {},
   "source": [
    "With the table complete, I performed a regression that used proportion_below_poverty_level as the dependent variable and various family type/education level values as the independent variables."
   ]
  },
  {
   "cell_type": "code",
   "execution_count": null,
   "metadata": {},
   "outputs": [],
   "source": [
    "y = df_regression_test_2_melt['proportion_below_poverty_level']\n",
    "x_vars = df_regression_test_2_melt[['Married',\n",
    "       'highest_ed_=_high_school_grad',\n",
    "       'highest_ed_=_some_college_or_associate\\'s',\n",
    "       'highest_ed_=_bachelor\\'s_or_higher']]\n",
    "x_vars = sm.add_constant(x_vars) \n",
    "model = sm.OLS(y,x_vars)\n",
    "results_2 = model.fit() \n",
    "results_2.summary()"
   ]
  },
  {
   "cell_type": "markdown",
   "metadata": {},
   "source": [
    "Finally, I will generate equivalent tables for US counties and states. Much of the code used to generate the zip code data table will also apply to creating the county and state data tables.\n",
    "\n",
    "While the county table still uses the ACS 5-year survey, the state table uses the ACS 1-year survey, as it retrieves more current data. See https://www.census.gov/programs-surveys/acs/guidance/estimates.html for guidance on when to use each survey option."
   ]
  },
  {
   "cell_type": "markdown",
   "metadata": {},
   "source": [
    "Here's a look at county-level results for a given metric:"
   ]
  },
  {
   "cell_type": "code",
   "execution_count": null,
   "metadata": {},
   "outputs": [],
   "source": [
    "sample_year = 2019\n",
    "census_query = c.acs5.get(('NAME', 'B17018_003E'), {'for': 'county:*', 'in':'state:*', 'year':sample_year})\n",
    "census_query"
   ]
  },
  {
   "cell_type": "code",
   "execution_count": null,
   "metadata": {},
   "outputs": [],
   "source": [
    "census_query[0]['NAME'].split(',')[0]"
   ]
  },
  {
   "cell_type": "code",
   "execution_count": null,
   "metadata": {},
   "outputs": [],
   "source": [
    "for i in range(len(metric_list)):\n",
    "    census_query = c.acs5.get(('NAME', metric_list[i]['Name']), {'for': 'county:*', 'in':'state:*', 'year':year})\n",
    "    county_list = [census_query[j]['NAME'] for j in range(len(census_query))] # The 'NAME' component of a county-based query includes the county name (including 'County'), a comma, and the state name. I chose to keep the state name within this result so that each county/state value would remain unique, which will prove helpful when creating choropleth maps.\n",
    "    county_code_list = [census_query[j]['county'] for j in range(len(census_query))]\n",
    "    state_list = [census_query[j]['state'] for j in range(len(census_query))]\n",
    "    metric = [census_query[j][metric_list[i]['Name']] for j in range(len(census_query))]\n",
    "    df_metric = pd.DataFrame(data={'County':county_list, 'County_Code': county_code_list, 'State':state_list, metric_list[i]['Alias']:metric}) \n",
    "\n",
    "    if i == 0: \n",
    "        county_results = df_metric\n",
    "    else:\n",
    "        county_results = county_results.merge(right=df_metric,how='outer')\n",
    "\n",
    "\n",
    "county_results"
   ]
  },
  {
   "cell_type": "code",
   "execution_count": null,
   "metadata": {},
   "outputs": [],
   "source": [
    "county_results = calculate_proportions(county_results)"
   ]
  },
  {
   "cell_type": "code",
   "execution_count": null,
   "metadata": {},
   "outputs": [],
   "source": [
    "county_results"
   ]
  },
  {
   "cell_type": "code",
   "execution_count": null,
   "metadata": {},
   "outputs": [],
   "source": [
    "county_results_1k_plus_households = county_results.query(\"Households > 1000\")\n",
    "county_results_1k_plus_households.to_csv('census_county_query_results_1k_plus_households.csv')\n",
    "county_results.to_csv('census_county_query_results.csv')"
   ]
  },
  {
   "cell_type": "code",
   "execution_count": null,
   "metadata": {},
   "outputs": [],
   "source": [
    "for i in range(len(metric_list)):\n",
    "    census_query = c.acs1.get(('NAME', metric_list[i]['Name']), {'for': 'state:*', 'year':year})\n",
    "    state_list = [census_query[j]['NAME'] for j in range(len(census_query))] \n",
    "    metric = [census_query[j][metric_list[i]['Name']] for j in range(len(census_query))]\n",
    "    df_metric = pd.DataFrame(data={'State':state_list, metric_list[i]['Alias']:metric}) \n",
    "\n",
    "    if i == 0: \n",
    "        state_results = df_metric\n",
    "    else:\n",
    "        state_results = state_results.merge(right=df_metric,how='outer')\n",
    "\n",
    "state_results = calculate_proportions(state_results)\n",
    "\n",
    "state_results"
   ]
  },
  {
   "cell_type": "code",
   "execution_count": null,
   "metadata": {},
   "outputs": [],
   "source": [
    "state_results.to_csv('census_state_query_results.csv')"
   ]
  },
  {
   "cell_type": "code",
   "execution_count": null,
   "metadata": {},
   "outputs": [],
   "source": [
    "end_time = time.time()\n",
    "run_time = end_time - start_time\n",
    "run_minutes = run_time // 60\n",
    "run_seconds = run_time % 60\n",
    "print(\"Completed run at\",time.ctime(end_time),\"(local time)\")\n",
    "print(\"Total run time:\",'{:.2f}'.format(run_time),\"second(s) (\"+str(run_minutes),\"minute(s) and\",'{:.2f}'.format(run_seconds),\"second(s))\") # Only valid when the program is run nonstop from start to finish"
   ]
  }
 ],
 "metadata": {
  "interpreter": {
   "hash": "7a016a462c2a18f177a2554c94a9e2d8b52c0ae6e623363f8138b3d5b2656021"
  },
  "kernelspec": {
   "display_name": "Python 3.9.5 64-bit ('ga15pyd': conda)",
   "name": "python3"
  },
  "language_info": {
   "codemirror_mode": {
    "name": "ipython",
    "version": 3
   },
   "file_extension": ".py",
   "mimetype": "text/x-python",
   "name": "python",
   "nbconvert_exporter": "python",
   "pygments_lexer": "ipython3",
   "version": "3.9.10"
  },
  "orig_nbformat": 4
 },
 "nbformat": 4,
 "nbformat_minor": 2
}
